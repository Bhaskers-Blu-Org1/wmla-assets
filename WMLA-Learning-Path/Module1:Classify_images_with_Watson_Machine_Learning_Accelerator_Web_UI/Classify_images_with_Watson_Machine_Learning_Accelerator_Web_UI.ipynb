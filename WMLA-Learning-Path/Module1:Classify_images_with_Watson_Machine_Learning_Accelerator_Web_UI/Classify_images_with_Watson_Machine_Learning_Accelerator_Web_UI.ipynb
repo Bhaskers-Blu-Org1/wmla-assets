{
 "cells": [
  {
   "cell_type": "markdown",
   "metadata": {},
   "source": [
    "# computer vision image classification with WMLA"
   ]
  },
  {
   "cell_type": "markdown",
   "metadata": {},
   "source": [
    "<div class=\"alert alert-block alert-info\">\n",
    "\n",
    "\n",
    "### Contents\n",
    "\n",
    "- [Introduction](#Introduction)\n",
    "- [Download dataset](#Download-dataset)\n",
    "- [Import dataset](#Import-dataset)\n",
    "- [Build the model](#Build-the-model)\n",
    "- [Run Training](#Run-training)\n",
    "- [Inspect Training Run](#Inspect-training-run)\n",
    "- [Create an inference model](#Create-an-inference-model)\n",
    "- [Test it out](#Test-it-out)\n",
    "\n",
    "\n",
    "\n",
    "</div>"
   ]
  },
  {
   "cell_type": "markdown",
   "metadata": {},
   "source": [
    "## Introduction\n",
    "[Back to top](#Contents)\n",
    "\n",
    "This notebook details the process of performing a basic computer vision image classification example using the Deep Learning Impact functionality within Watson Machine Learning Accelerator.  \n",
    "\n",
    "Please visit [Watson Machine Learning Accelerator Learning Path](https://developer.ibm.com/series/learning-path-get-started-with-watson-machine-learning-accelerator/) for further insight of Watson ML Accelerator"
   ]
  },
  {
   "cell_type": "markdown",
   "metadata": {},
   "source": [
    "## Download Dataset\n",
    "\n",
    "<a id='Download-dataset'></a>\n",
    "[Back to top](#Contents)\n",
    "\n",
    "Lets get started and download the dataset from github!!!"
   ]
  },
  {
   "cell_type": "code",
   "execution_count": 8,
   "metadata": {},
   "outputs": [
    {
     "name": "stdout",
     "output_type": "stream",
     "text": [
      "Cloning into 'CIFAR-10-images'...\n",
      "remote: Enumerating objects: 60027, done.\u001b[K\n",
      "remote: Total 60027 (delta 0), reused 0 (delta 0), pack-reused 60027\u001b[K\n",
      "Receiving objects: 100% (60027/60027), 19.94 MiB | 6.17 MiB/s, done.\n",
      "Resolving deltas: 100% (59990/59990), done.\n",
      "Checking out files: 100% (60001/60001), done.\n"
     ]
    }
   ],
   "source": [
    "! git clone https://github.com/YoongiKim/CIFAR-10-images.git "
   ]
  },
  {
   "cell_type": "code",
   "execution_count": 9,
   "metadata": {},
   "outputs": [
    {
     "name": "stdout",
     "output_type": "stream",
     "text": [
      "/Users/Kelvin/Github/wmla-assets/WMLA-learning-journey/elastic-distributed-training-module/CIFAR-10-images/train\n"
     ]
    }
   ],
   "source": [
    "cd CIFAR-10-images/train"
   ]
  },
  {
   "cell_type": "code",
   "execution_count": 10,
   "metadata": {},
   "outputs": [],
   "source": [
    "import os\n",
    "training_path = os.getcwd()"
   ]
  },
  {
   "cell_type": "code",
   "execution_count": 11,
   "metadata": {},
   "outputs": [
    {
     "name": "stdout",
     "output_type": "stream",
     "text": [
      "/Users/Kelvin/Github/wmla-assets/WMLA-learning-journey/elastic-distributed-training-module/CIFAR-10-images/test\n"
     ]
    }
   ],
   "source": [
    "cd ../test"
   ]
  },
  {
   "cell_type": "markdown",
   "metadata": {},
   "source": [
    "### Copy the Dataset Training and Testing folder"
   ]
  },
  {
   "cell_type": "code",
   "execution_count": 12,
   "metadata": {},
   "outputs": [
    {
     "name": "stdout",
     "output_type": "stream",
     "text": [
      "training_path: /Users/Kelvin/Github/wmla-assets/WMLA-learning-journey/elastic-distributed-training-module/CIFAR-10-images/train\n",
      "testing_path:/Users/Kelvin/Github/wmla-assets/WMLA-learning-journey/elastic-distributed-training-module/CIFAR-10-images/test\n"
     ]
    }
   ],
   "source": [
    "testing_path = os.getcwd()\n",
    "print ('training_path: ' + training_path)\n",
    "print ('testing_path:' + testing_path)"
   ]
  },
  {
   "cell_type": "markdown",
   "metadata": {},
   "source": [
    "## Import Dataset\n",
    "<a id='Import-dataset'></a>\n",
    "[Back to top](#Contents)\n",
    "\n",
    "1. At the top Left select \"Workload\" -> \"Spark\" -> \"Deep Learning\"\n",
    "1. Select the **Datasets** tab, and click **New**\n",
    "1. Click **Images for Object Classification**. When presented with a dialog box, provide a unique name (lets use \"Cifar10\"!!!) and select the TFRecords for 'Dataset stores images in',  and then select the folder that contains the images obtained in the previous step.  The other fields are fine to use with the default settings. When you're ready, click Create.\n",
    "\n",
    "<br>\n",
    "\n",
    "![](https://github.com/IBM/wmla-assets/raw/master/WMLA-Learning-Path/Module1:Classify_images_with_Watson_Machine_Learning_Accelerator_Web_UI/Shared-images/ImportDataset.png)\n",
    "\n",
    "\n",
    "\n"
   ]
  },
  {
   "cell_type": "markdown",
   "metadata": {},
   "source": [
    "## Build the model\n",
    "\n",
    "<a id='Build-the-model'></a>\n",
    "[Back to top](#Contents)\n",
    "\n",
    "1. Select the **Models** tab and click **New**.\n",
    "1. Click \"Add Location\" and select **Tensorflow-cifar10** and click **Next**\n",
    "1. When presented with a dialog box, ensure that the Training engine is set to singlenode and that the data set points to the one you just created\n",
    "![](https://github.com/IBM/wmla-assets/raw/master/WMLA-Learning-Path/Module1:Classify_images_with_Watson_Machine_Learning_Accelerator_Web_UI/Shared-images/modelcreation1.png)\n",
    "<br>\n",
    "1. Set the following parameters and click **Add**\n",
    "![](https://github.com/IBM/wmla-assets/raw/master/WMLA-Learning-Path/Module1:Classify_images_with_Watson_Machine_Learning_Accelerator_Web_UI/Shared-images/modelcreation2.png)\n",
    "<br>\n",
    "1.  The model is now ready to be trained."
   ]
  },
  {
   "cell_type": "markdown",
   "metadata": {},
   "source": [
    "## Run Training\n",
    "\n",
    "<a id='Run-training'></a>\n",
    "[Back to top](#Contents)\n",
    "\n",
    "1. Back at the **Models** tab, select the model you created in previous step and click **Train**\n",
    "1. When presented with a dialog box, keep default parameter and click **Start Training**\n",
    "![](https://github.com/IBM/wmla-assets/raw/master/WMLA-Learning-Path/Module1:Classify_images_with_Watson_Machine_Learning_Accelerator_Web_UI/Shared-images/modeltrain1.png)"
   ]
  },
  {
   "cell_type": "markdown",
   "metadata": {},
   "source": [
    "## Inspect Training Run\n",
    "<a id='Inspect-training-run'></a>\n",
    "[Back to top](#Contents)\n",
    "\n",
    "1. From the **Train** submenu of the **Models** tab, select the model that is training by clicking the link.\n",
    "1. Navigate from the **Overview panel** to the **Training** panel, and click the most recent link. You can watch as the results roll in.\n",
    "![](https://github.com/IBM/wmla-assets/raw/master/WMLA-Learning-Path/Module1:Classify_images_with_Watson_Machine_Learning_Accelerator_Web_UI/Shared-images/modeltrain2.png)"
   ]
  },
  {
   "cell_type": "markdown",
   "metadata": {},
   "source": [
    "## Create an inference model\n",
    "<a id='Create-an-inference-model'></a>\n",
    "[Back to top](#Contents)\n",
    "\n",
    "\n",
    "1. From the Training view, click Create Inference Model.\n",
    "![](https://github.com/IBM/wmla-assets/raw/master/WMLA-Learning-Path/Module1:Classify_images_with_Watson_Machine_Learning_Accelerator_Web_UI/Shared-images/inference1.png)\n",
    "1. This creates a new model in the Models tab. You can view it by going to the Inference submenu.\n",
    "![](https://github.com/IBM/wmla-assets/raw/master/WMLA-Learning-Path/Module1:Classify_images_with_Watson_Machine_Learning_Accelerator_Web_UI/Shared-images/inference2.png)"
   ]
  },
  {
   "cell_type": "markdown",
   "metadata": {},
   "source": [
    "## Test it out\n",
    "<a id='Test-it-out'></a>\n",
    "[Back to top](#Contents)\n",
    "\n",
    "1. Download [inference test image] (https://github.com/IBM/wmla-assets/raw/master/WMLA-Learning-Path/Module1:Classify_images_with_Watson_Machine_Learning_Accelerator_Web_UI/Shared-images/car.jpg)to your laptop\n",
    "\n",
    "1. Go back to the Models tab, select the new inference model, and click Test. At the new Testing overview screen, select New Test.\n",
    "![](https://github.com/IBM/wmla-assets/raw/master/WMLA-Learning-Path/Module1:Classify_images_with_Watson_Machine_Learning_Accelerator_Web_UI/Shared-images/inference3.png)\n",
    "\n",
    "1.  When presented with a dialog box, click **Choose File** to load the inference test image.  Click **Start Test**\n",
    "![](https://github.com/IBM/wmla-assets/raw/master/WMLA-Learning-Path/Module1:Classify_images_with_Watson_Machine_Learning_Accelerator_Web_UI/Shared-images/inference4.png)\n",
    "\n",
    "1. Wait for the test state to change from RUNNING to FINISHED.  Click the link to view the results of the test.\n",
    "![](https://github.com/IBM/wmla-assets/raw/master/WMLA-Learning-Path/Module1:Classify_images_with_Watson_Machine_Learning_Accelerator_Web_UI/Shared-images/inference5.png)\n",
    "\n",
    "1. As you can see, the images are available as a thumbnail preview along with their classified label and probability.\n",
    "\n",
    "![](https://github.com/IBM/wmla-assets/raw/master/WMLA-Learning-Path/Module1:Classify_images_with_Watson_Machine_Learning_Accelerator_Web_UI/Shared-images/inference6.png)"
   ]
  },
  {
   "cell_type": "markdown",
   "metadata": {},
   "source": [
    "#### This is version 1.0 and its content is copyright of IBM.   All rights reserved.   \n",
    "\n",
    "\n"
   ]
  },
  {
   "cell_type": "code",
   "execution_count": null,
   "metadata": {},
   "outputs": [],
   "source": []
  },
  {
   "cell_type": "code",
   "execution_count": null,
   "metadata": {},
   "outputs": [],
   "source": []
  }
 ],
 "metadata": {
  "kernelspec": {
   "display_name": "Python 3",
   "language": "python",
   "name": "python3"
  },
  "language_info": {
   "codemirror_mode": {
    "name": "ipython",
    "version": 3
   },
   "file_extension": ".py",
   "mimetype": "text/x-python",
   "name": "python",
   "nbconvert_exporter": "python",
   "pygments_lexer": "ipython3",
   "version": "3.7.2"
  }
 },
 "nbformat": 4,
 "nbformat_minor": 2
}
